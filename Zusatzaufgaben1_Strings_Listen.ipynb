{
 "cells": [
  {
   "cell_type": "markdown",
   "metadata": {},
   "source": [
    "## Aufgabe 1: Persönliche Daten aus Zeichenketten ausgeben\n",
    "\n",
    "In einer Textdatei sind Zeile für Zeile Angaben zu einer Person gespeichert:\n",
    "\n",
    "`Name: Dörte Weber;`\n",
    "\n",
    "`Adresse: Kobelweg 12, 86391 Stadtbergen;`\n",
    "\n",
    "`Alter: 66;`\n",
    "\n",
    "Die Zeichenketten dieser Datei werden zeilenweise eingelesen in die Variable `zeile`. Schreibe einen Code, der mit `print` nur die persönlichen Daten ausgibt (d.h. den String hinter dem Doppelpunkt).\n",
    "\n",
    "Hier im Beispiel, muss also aus `zeile` der gewünschte String extrahiert werden: \n",
    "```Dörte Weber```. Teste dein Programm auch für die anderen Zeilen."
   ]
  },
  {
   "cell_type": "code",
   "execution_count": null,
   "metadata": {},
   "outputs": [],
   "source": [
    "zeile = \"Name: Dörte Weber;\""
   ]
  },
  {
   "cell_type": "code",
   "execution_count": null,
   "metadata": {},
   "outputs": [],
   "source": []
  },
  {
   "cell_type": "markdown",
   "metadata": {},
   "source": [
    "## Aufgabe 2: Vorschau eines Blog-Artikels (mit Vertiefung)\n",
    "\n",
    "Für einen Fashion-Blog soll eine kurze Vorschau der Artikel im Umfang von 35 Zeichen angezeigt werden.\n",
    "Der Text soll dabei mit drei Punkten `...` enden, um anzuzeigen, dass es noch mehr Inhalt gibt.\n",
    "\n",
    "**Schreibe den Code, um `post` wie beschrieben neu zu formatieren und auszugeben.**\n",
    "\n",
    "Gewünschte Ausgabe:\n",
    "```Die Herbst- und Winter-Saison ist e...```"
   ]
  },
  {
   "cell_type": "code",
   "execution_count": null,
   "metadata": {},
   "outputs": [],
   "source": [
    "s = \"Die Herbst- und Winter-Saison ist eingeleitet und die Duftkerzen sind bereits angezündet. Jetzt fehlen also nur noch ein paar Parfums, die perfekt in die kältere Jahreszeit passen (aber in meinem Fall eigentlich auch das ganze Jahr über) – hier sind also meine aktuellen Lieblinge!\""
   ]
  },
  {
   "cell_type": "code",
   "execution_count": null,
   "metadata": {},
   "outputs": [],
   "source": []
  },
  {
   "cell_type": "markdown",
   "metadata": {},
   "source": [
    "### Vertiefende Aufgabe\n",
    "\n",
    "Die Funktion find() findet die (erste) Position eines Teilstrings im String.\n",
    "Die Funktion rfind() findet die letzte Position eines Teilstrings im String.\n",
    "\n",
    "**Kannst Du die Aufgabe so lösen, dass die drei Punkte nach einem Leerzeichen eingefügt werden, um zu verhindern, dass Texte mitten in einem Wort abgeschnitten werden?**\n",
    "\n",
    "Ausgabe: \n",
    "```Die Herbst- und Winter-Saison ist...```"
   ]
  },
  {
   "cell_type": "code",
   "execution_count": null,
   "metadata": {},
   "outputs": [],
   "source": []
  },
  {
   "cell_type": "code",
   "execution_count": null,
   "metadata": {},
   "outputs": [],
   "source": []
  }
 ],
 "metadata": {
  "kernelspec": {
   "display_name": "Python 3",
   "language": "python",
   "name": "python3"
  },
  "language_info": {
   "codemirror_mode": {
    "name": "ipython",
    "version": 3
   },
   "file_extension": ".py",
   "mimetype": "text/x-python",
   "name": "python",
   "nbconvert_exporter": "python",
   "pygments_lexer": "ipython3",
   "version": "3.7.4"
  }
 },
 "nbformat": 4,
 "nbformat_minor": 4
}
