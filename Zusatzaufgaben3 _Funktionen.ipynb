{
 "cells": [
  {
   "cell_type": "markdown",
   "metadata": {},
   "source": [
    "### Aufgabe: Analysiere die Häufigkeit von Wörtern in einem wissenschaftlichen Paper\n",
    "\n",
    "Deine Aufgabe ist es, eine Funktion `count_words(text, pattern)` zu schreiben, die folgende Parameter übergeben bekommt:\n",
    "\n",
    "- text: Das ist der gesamte Text, der analysiert werden soll\n",
    "- pattern: Hiernach soll gesucht werden\n",
    "\n",
    "Diese Funktion soll dann die Häufigkeit angeben, wie oft `pattern` in String `text` enthalten ist. Wichtig: Groß- und Kleinschreibung soll dabei ignoriert werden. Hierfür kannst du die `.lower()`-Funktion verwenden.\n",
    "\n",
    "Öffne anschließend den text von TopicModellingPaper18, und ermittle, wie oft die Wörter \"topic\", \"word\" und \"frequency\" in diesem Paper vorkommen.\n",
    "\n",
    "**Hinweis:** Die Referenzen, Angaben zu den Autoren, Überschriften zählen wir jetzt mit dazu. In bestimmten Analyseverfahren werden diese Textelemente häufig ausgeschlossen.\n",
    "\n",
    "**Hinweis:** Mit `.count('data')` wird ausgegeben, wie oft der Teilstring `data` in einem String vorkommt. Wichtig: Diese Funktion unterscheidet zwischen Groß- und Kleinschreibung:"
   ]
  },
  {
   "cell_type": "code",
   "execution_count": null,
   "metadata": {},
   "outputs": [],
   "source": [
    "text = \"Data data-science dataanalyst data\"\n",
    "print(text.count(\"data\"))"
   ]
  },
  {
   "cell_type": "markdown",
   "metadata": {},
   "source": [
    "Die Ausgabe deiner Analyse soll so aussehen:\n",
    "\n",
    "``190-mal kommt 'topic' vor.\n",
    "  91-mal kommt 'word' vor.\n",
    "  2-mal kommt 'frequency' vor.``"
   ]
  },
  {
   "cell_type": "code",
   "execution_count": null,
   "metadata": {},
   "outputs": [],
   "source": [
    "#Ergänze den Programmcode\n",
    "def count_words (text,pattern):\n",
    "    return \n",
    "\n",
    "with open(\"TopicModellingPaper18.txt\", encoding = \"utf-8\") as file:\n",
    "    contents = file.read()\n",
    "    \n"
   ]
  },
  {
   "cell_type": "markdown",
   "metadata": {},
   "source": [
    "**Hinweis:** Falls noch nicht gemacht, nutze die `for-Schleife`, um die einzelnen Wörter zu analysieren. "
   ]
  },
  {
   "cell_type": "code",
   "execution_count": null,
   "metadata": {},
   "outputs": [],
   "source": [
    "\n",
    "    "
   ]
  },
  {
   "cell_type": "markdown",
   "metadata": {},
   "source": [
    "***Weitere Möglichkeiten:***\n",
    "Ausgabe der Analyse in eine eigene Datei schreiben oder die Liste an Wörtern, die analysiert werden sollen, beliebig erweitern lassen, indem Wörter individuell eingegeben werden können. Experimentieren Sie selbst ein wenig herum!"
   ]
  },
  {
   "cell_type": "code",
   "execution_count": null,
   "metadata": {},
   "outputs": [],
   "source": []
  },
  {
   "cell_type": "markdown",
   "metadata": {},
   "source": [
    "### Aufgabe (very advanced): Die Häufigkeit von allen Wörtern ermitteln\n",
    "\n",
    "Erstelle ein Dictionary, das für jedes Wort in der Datei \"TopicModellingPaper18.txt\" die Häufigkeit des Vorkommens enthält. \n",
    "\n",
    "**Beachte:** Der Text enthält natürlich viele Satzzeichen. Du kannst daher den Text zuerst an einem Leerzeichen trennen, und anschließend die ``word_cleaner`` Funktion (die bereits vorgegeben ist) verwenden, um Satzzeichen aus einem Wort zu entfernen. Diese Funktion entfernt alle Satzzeichen aus einem Wort, und gibt das Wort in Kleinbuchstaben zurück. Versuche als Erstes, diese Funktion nachzuvollziehen!\n",
    "\n",
    "Nun schreibe ein Programm, dass die Häufigkeit in einem Dictionary abspeichert, und gebe anschließend aus, welches Wort am Häufigsten vorkommt - und wie oft dieses Wort vorkommt. \n",
    "\n",
    "**Hinweis 1:** Die Referenzen, Angaben zu den Autoren, Überschriften zählen wir mit dazu. \n",
    "\n",
    "**Hinweis 2:** Beachte, dass sich der leere String in deine Wörter einschleichen kann. Dieser zählt nicht als Wort!"
   ]
  },
  {
   "cell_type": "code",
   "execution_count": null,
   "metadata": {},
   "outputs": [],
   "source": [
    "all_characters = \"abcdefghijklmnopqrstuvwxyzüöäß\" # alternativ: strings.ascii_letters; üöäß wenig relevant, außer in Referenzen möglich\n",
    "\n",
    "def word_cleaner(word):\n",
    "    w = \"\"\n",
    "    for character in word.lower():\n",
    "        if character in all_characters:\n",
    "            w = w + character\n",
    "    return w\n",
    "        \n",
    "\n",
    "with open(\"TopicModellingPaper18.txt\", encoding=\"utf-8\") as file:\n",
    "    contents = file.read()\n",
    "    # Schreibe hier deinen Code"
   ]
  },
  {
   "cell_type": "code",
   "execution_count": null,
   "metadata": {},
   "outputs": [],
   "source": []
  }
 ],
 "metadata": {
  "kernelspec": {
   "display_name": "Python 3",
   "language": "python",
   "name": "python3"
  },
  "language_info": {
   "codemirror_mode": {
    "name": "ipython",
    "version": 3
   },
   "file_extension": ".py",
   "mimetype": "text/x-python",
   "name": "python",
   "nbconvert_exporter": "python",
   "pygments_lexer": "ipython3",
   "version": "3.7.4"
  }
 },
 "nbformat": 4,
 "nbformat_minor": 4
}
