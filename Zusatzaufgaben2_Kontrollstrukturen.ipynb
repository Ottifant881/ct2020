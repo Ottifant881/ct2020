{
 "cells": [
  {
   "cell_type": "markdown",
   "metadata": {},
   "source": [
    "## Aufgabe: Glückspiel - Gerader oder ungrader Würfelwurf\n",
    "\n",
    "In `w` sei der Wert eines Würfelwerts gespeichert. Der Würfel kann die Werte 1, 2, 3, 4, 5 und 6 annehmen - Zum Beispiel sei `w=4`.\n",
    "\n",
    "Schreibe Programmcode, der mit Hilfe des Modulo-Operators prüft, ob der Wert von `w` gerade oder ungerade ist. Das Programm soll z.B. ```3 ist ungerade``` oder ```4 ist gerade``` ausgeben.\n",
    "\n",
    "**Beispielausgabe:**\n",
    "\n",
    "```4 ist gerade```"
   ]
  },
  {
   "cell_type": "code",
   "execution_count": 1,
   "metadata": {},
   "outputs": [],
   "source": [
    "w = 4"
   ]
  },
  {
   "cell_type": "markdown",
   "metadata": {},
   "source": [
    "### Vertiefung:\n",
    "Nun wir der Würfen zweimal hintereinander geworfen. Wenn beide Würfelwerte ungerade sind, erhält der Spieler eine Gewinnsumme von 10 Euro. Wenn nur ein Würfelwert ungerade ist, beträgt die Gewinnsumme 0 Euro. Wenn beide Würfelwerte gerade sind, macht der Spieler einen Verlust von 10 Euro.\n",
    "\n",
    "Deine Aufgabe ist es, ein Programm zu schreiben, welches die Gewinnsumme bzw. den Verlust ausgibt.\n",
    "\n",
    "**Beispielausgabe für w1=1 und w2=3:**\n",
    "```Gewinnsumme beträgt 10 Euro.```\n",
    "\n",
    "**Beispielausgabe für w1=1 und w2=4:**\n",
    "```Gewinnsumme beträgt 0 Euro.``` \n",
    "\n",
    "**Beispielausgabe für w1=2 und w2=4:**\n",
    "```Verlust beträgt 10 Euro.``` \n",
    "\n",
    "Teste deinen Programmcode für die verschiedenen Würfelwerte."
   ]
  },
  {
   "cell_type": "code",
   "execution_count": null,
   "metadata": {},
   "outputs": [],
   "source": [
    "w1 = 1\n",
    "w2 = 3"
   ]
  },
  {
   "cell_type": "markdown",
   "metadata": {},
   "source": [
    "## Aufgabe: Versandkosten bei einem Food-Online-Shop berechnen\n",
    "\n",
    "Für einen Food-Online-Shop sollst du ein Programm schreiben, dass die Versandkosten berechnet. Die Variable `zwsum` enthält die Summe der Preise aller gekauften Waren. Die Versandkosten betragen 8,95 Euro. Ab einem Einkaufswert von 40 Euro betragen die Versandkosten nur 5,95 Euro; ab einem Einkaufswert von 50 Euro werden keine Versandkosten berechnet.\n",
    "\n",
    "Deine Aufgabe ist es, ein Programm zu schreiben, dass die Versandkosten zum Preis (also zu der Zwischensumme) addiert und den (neuen) Gesamtpreis ausgibt. Weiterhin soll das Programm ggf. ausgeben, für wie viel Geld noch Waren gekauft werden müssen, damit die Bestellung versandkostenfrei geliefert wird bzw. nur 5,95 Euro beträgt.\n",
    "\n",
    "**Hinweis**: Nutze die Funktion `round()`. Der zweite Parameter für die Funktion `round()` gibt an, auf wie viele Nachkommastellen gerundet werden soll. Bsp: `round(1.2934,2)` ergibt `1,29`. Im Zusammenhang mit der Ausgabe von Geldbeträgen kann diese Funktion sehr sinnvoll sein.\n",
    "\n",
    "**Beispielausgabe für die Zwischensumme von 47,60 Euro:**\n",
    "\n",
    "```Wenn Du weitere Waren im Wert von 2.4 Euro einkaufst, erfolgt der Versand kostenfrei.\n",
    "Gesamtpreis: 53.55 Euro```\n",
    "\n",
    "**Beispielausgabe für die Zwischensumme von 36,25 Euro:**\n",
    "\n",
    "```Wenn Du weitere Waren im Wert von 3.75 Euro einkaufst, zahlst du für die Versandkosten nur 5,95 Euro. Wenn du weitere Waren im Wert von 13,75 Euro einkaufst, erfolgt der Versand kostenfrei.\n",
    "Gesamtpreis: 45.2 Euro```"
   ]
  },
  {
   "cell_type": "code",
   "execution_count": 1,
   "metadata": {},
   "outputs": [],
   "source": [
    "zwsum = 47.60     # Gegebener Betrag für Beispielaufgabe 1\n",
    "\n"
   ]
  },
  {
   "cell_type": "code",
   "execution_count": null,
   "metadata": {},
   "outputs": [],
   "source": []
  },
  {
   "cell_type": "code",
   "execution_count": null,
   "metadata": {},
   "outputs": [],
   "source": [
    "zwsum = 36.25     # Gegebener Betrag für Beispielaufgabe 2"
   ]
  },
  {
   "cell_type": "markdown",
   "metadata": {},
   "source": [
    "## Aufgabe: Öffnungszeiten für ein Geschäft\n",
    "\n",
    "Schreibe ein Programm für ein Geschäft und definiere darin zwei boolesche Variablen: `sonntag` und `feiertag`. Erstelle eine Kontrollstruktur, die: 1) an allen Sonntagen (auch wenn es sich dabei um einen Feiertag handelt) den Leser darauf hinweist, dass das Geschäft geschlossen ist und ihm einen schönen Sonntag wünscht;  2) an Feiertagen, die nicht auf einen Sonntag fallen, den Leser lediglich darauf hinweist, dass das Geschäft geschlossen ist. 3) an allen übrigen Tagen mitteilt, dass das Geschäft geöffnet ist.\n",
    "\n",
    "**Ausgabe für Sonntag:**\n",
    "```Das Geschäft ist heute geschlossen. Wir wünschen Ihnen noch einen schönen Sonntag!```\n",
    "\n",
    "**Ausgabe für einen Feiertag:**\n",
    "```Das Geschäft ist heute geschlossen.```\n",
    "\n",
    "**Ausgbe für einen Werktag:**\n",
    "```Das Geschäft hat heute geöffnet.```\n",
    "\n",
    "\n",
    "Mache dir Gedanken dazu, inwiefern die Reihenfolge der Bedingungen eine Rolle spielt!"
   ]
  },
  {
   "cell_type": "code",
   "execution_count": null,
   "metadata": {},
   "outputs": [],
   "source": []
  }
 ],
 "metadata": {
  "kernelspec": {
   "display_name": "Python 3",
   "language": "python",
   "name": "python3"
  },
  "language_info": {
   "codemirror_mode": {
    "name": "ipython",
    "version": 3
   },
   "file_extension": ".py",
   "mimetype": "text/x-python",
   "name": "python",
   "nbconvert_exporter": "python",
   "pygments_lexer": "ipython3",
   "version": "3.7.4"
  }
 },
 "nbformat": 4,
 "nbformat_minor": 4
}
